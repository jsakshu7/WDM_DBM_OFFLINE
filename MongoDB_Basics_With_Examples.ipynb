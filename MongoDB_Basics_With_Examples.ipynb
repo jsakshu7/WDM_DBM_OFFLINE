{
 "cells": [
  {
   "cell_type": "markdown",
   "id": "cb43e341",
   "metadata": {},
   "source": [
    "# MongoDB Basics With Examples"
   ]
  },
  {
   "cell_type": "markdown",
   "id": "7dd19222",
   "metadata": {},
   "source": [
    "## 1. Create / Use a Database"
   ]
  },
  {
   "cell_type": "markdown",
   "id": "d2e5877a",
   "metadata": {},
   "source": [
    "```js\n",
    "use mycompany\n",
    "```"
   ]
  },
  {
   "cell_type": "markdown",
   "id": "3699a18e",
   "metadata": {},
   "source": [
    "## 2. Show All Databases"
   ]
  },
  {
   "cell_type": "markdown",
   "id": "2d23c66c",
   "metadata": {},
   "source": [
    "```js\n",
    "show databases\n",
    "```"
   ]
  },
  {
   "cell_type": "markdown",
   "id": "1bcf6f32",
   "metadata": {},
   "source": [
    "## 3. Create a Collection"
   ]
  },
  {
   "cell_type": "markdown",
   "id": "0a3f8cb8",
   "metadata": {},
   "source": [
    "```js\n",
    "db.createCollection(\"products\")\n",
    "```"
   ]
  },
  {
   "cell_type": "markdown",
   "id": "3f63c41f",
   "metadata": {},
   "source": [
    "## 4. Show Collections"
   ]
  },
  {
   "cell_type": "markdown",
   "id": "9e14e135",
   "metadata": {},
   "source": [
    "```js\n",
    "show collections\n",
    "```"
   ]
  },
  {
   "cell_type": "markdown",
   "id": "a494a0e7",
   "metadata": {},
   "source": [
    "## 5. Insert One Document"
   ]
  },
  {
   "cell_type": "markdown",
   "id": "aab9511f",
   "metadata": {},
   "source": [
    "```js\n",
    "db.products.insertOne({name: \"Laptop\", price: 50000})\n",
    "```"
   ]
  },
  {
   "cell_type": "markdown",
   "id": "f17ee32a",
   "metadata": {},
   "source": [
    "## 6. Insert Many Documents"
   ]
  },
  {
   "cell_type": "markdown",
   "id": "8852f291",
   "metadata": {},
   "source": [
    "```js\n",
    "db.products.insertMany([\n",
    "  {name: \"Mouse\", price: 500},\n",
    "  {name: \"Keyboard\", price: 800}\n",
    "])\n",
    "```"
   ]
  },
  {
   "cell_type": "markdown",
   "id": "ca4fe93d",
   "metadata": {},
   "source": [
    "## 7. Show All Documents"
   ]
  },
  {
   "cell_type": "markdown",
   "id": "1f677764",
   "metadata": {},
   "source": [
    "```js\n",
    "db.products.find()\n",
    "```"
   ]
  },
  {
   "cell_type": "markdown",
   "id": "c8603040",
   "metadata": {},
   "source": [
    "## 8. Find Specific Document"
   ]
  },
  {
   "cell_type": "markdown",
   "id": "fd165bf4",
   "metadata": {},
   "source": [
    "```js\n",
    "db.products.find({name: \"Mouse\"})\n",
    "```"
   ]
  },
  {
   "cell_type": "markdown",
   "id": "23f6a7ba",
   "metadata": {},
   "source": [
    "## 9. Comparison Operator Examples"
   ]
  },
  {
   "cell_type": "markdown",
   "id": "3d8a4b86",
   "metadata": {},
   "source": [
    "```js\n",
    "db.products.find({price: {$gte: 1000}})\n",
    "db.products.find({price: {$lt: 1000}})\n",
    "db.products.find({price: {$eq: 800}})\n",
    "```"
   ]
  },
  {
   "cell_type": "markdown",
   "id": "45b215c5",
   "metadata": {},
   "source": [
    "## 10. Sorting Data"
   ]
  },
  {
   "cell_type": "markdown",
   "id": "e8d8d869",
   "metadata": {},
   "source": [
    "```js\n",
    "db.products.find().sort({price: 1})   // Ascending\n",
    "db.products.find().sort({price: -1})  // Descending\n",
    "```"
   ]
  },
  {
   "cell_type": "markdown",
   "id": "1054580f",
   "metadata": {},
   "source": [
    "## 11. Update One Document"
   ]
  },
  {
   "cell_type": "markdown",
   "id": "c147658d",
   "metadata": {},
   "source": [
    "```js\n",
    "db.products.updateOne(\n",
    "  {name: \"Mouse\"},\n",
    "  {$set: {price: 600}}\n",
    ")\n",
    "```"
   ]
  },
  {
   "cell_type": "markdown",
   "id": "5ef8bf6a",
   "metadata": {},
   "source": [
    "## 12. Update Many Documents"
   ]
  },
  {
   "cell_type": "markdown",
   "id": "c460bd69",
   "metadata": {},
   "source": [
    "```js\n",
    "db.products.updateMany(\n",
    "  {price: {$lt: 1000}},\n",
    "  {$set: {category: \"Accessories\"}}\n",
    ")\n",
    "```"
   ]
  },
  {
   "cell_type": "markdown",
   "id": "de580fee",
   "metadata": {},
   "source": [
    "## 13. Delete One Document"
   ]
  },
  {
   "cell_type": "markdown",
   "id": "e0d6aeb4",
   "metadata": {},
   "source": [
    "```js\n",
    "db.products.deleteOne({name: \"Mouse\"})\n",
    "```"
   ]
  },
  {
   "cell_type": "markdown",
   "id": "f49dd975",
   "metadata": {},
   "source": [
    "## 14. Delete Many Documents"
   ]
  },
  {
   "cell_type": "markdown",
   "id": "86ae2b54",
   "metadata": {},
   "source": [
    "```js\n",
    "db.products.deleteMany({price: {$lt: 1000}})\n",
    "```"
   ]
  },
  {
   "cell_type": "markdown",
   "id": "2b4a7584",
   "metadata": {},
   "source": [
    "## 15. Aggregation (sum, avg, count)"
   ]
  },
  {
   "cell_type": "markdown",
   "id": "0f7152a8",
   "metadata": {},
   "source": [
    "```js\n",
    "db.sales.insertMany([\n",
    "  {item: \"Pen\", quantity: 10, price: 20},\n",
    "  {item: \"Notebook\", quantity: 5, price: 50},\n",
    "  {item: \"Pen\", quantity: 15, price: 20}\n",
    "])\n",
    "\n",
    "// Total Quantity\n",
    "db.sales.aggregate([\n",
    "  {$group: {_id: \"$item\", totalQty: {$sum: \"$quantity\"}}}\n",
    "])\n",
    "\n",
    "// Average Price\n",
    "db.sales.aggregate([\n",
    "  {$group: {_id: \"$item\", avgPrice: {$avg: \"$price\"}}}\n",
    "])\n",
    "\n",
    "// Count per item\n",
    "db.sales.aggregate([\n",
    "  {$group: {_id: \"$item\", count: {$sum: 1}}}\n",
    "])\n",
    "```"
   ]
  }
 ],
 "metadata": {},
 "nbformat": 4,
 "nbformat_minor": 5
}